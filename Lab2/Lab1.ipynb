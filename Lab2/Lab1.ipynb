{
 "cells": [
  {
   "cell_type": "code",
   "execution_count": 1,
   "id": "3bfe1ccf",
   "metadata": {},
   "outputs": [],
   "source": [
    "import numpy as np\n",
    "import pandas as pd\n",
    "import matplotlib.pyplot as plt\n",
    "from scipy import stats\n",
    "import seaborn as sns"
   ]
  },
  {
   "cell_type": "code",
   "execution_count": 2,
   "id": "3ca598bb",
   "metadata": {},
   "outputs": [],
   "source": [
    "url = r\"C:\\Users\\henri\\OneDrive\\Dokumenter\\DAVE3625\\Dave3625-Host-2025\\Lab2\\data\\stud.csv\""
   ]
  },
  {
   "cell_type": "code",
   "execution_count": 3,
   "id": "72c5aeb1",
   "metadata": {},
   "outputs": [
    {
     "data": {
      "text/html": [
       "<div>\n",
       "<style scoped>\n",
       "    .dataframe tbody tr th:only-of-type {\n",
       "        vertical-align: middle;\n",
       "    }\n",
       "\n",
       "    .dataframe tbody tr th {\n",
       "        vertical-align: top;\n",
       "    }\n",
       "\n",
       "    .dataframe thead th {\n",
       "        text-align: right;\n",
       "    }\n",
       "</style>\n",
       "<table border=\"1\" class=\"dataframe\">\n",
       "  <thead>\n",
       "    <tr style=\"text-align: right;\">\n",
       "      <th></th>\n",
       "      <th>StudentID</th>\n",
       "      <th>Age</th>\n",
       "      <th>email</th>\n",
       "      <th>hrsStudy</th>\n",
       "      <th>FinalGrade</th>\n",
       "    </tr>\n",
       "  </thead>\n",
       "  <tbody>\n",
       "    <tr>\n",
       "      <th>0</th>\n",
       "      <td>47412</td>\n",
       "      <td>20</td>\n",
       "      <td>s47412@oslomet.no</td>\n",
       "      <td>5</td>\n",
       "      <td>46.0</td>\n",
       "    </tr>\n",
       "    <tr>\n",
       "      <th>1</th>\n",
       "      <td>15077</td>\n",
       "      <td>22</td>\n",
       "      <td>s15077@oslomet.no</td>\n",
       "      <td>0</td>\n",
       "      <td>65.0</td>\n",
       "    </tr>\n",
       "    <tr>\n",
       "      <th>2</th>\n",
       "      <td>15467</td>\n",
       "      <td>27</td>\n",
       "      <td>s15467@oslomet.no</td>\n",
       "      <td>1</td>\n",
       "      <td>26.0</td>\n",
       "    </tr>\n",
       "    <tr>\n",
       "      <th>3</th>\n",
       "      <td>17907</td>\n",
       "      <td>21</td>\n",
       "      <td>s17907@oslomet.no</td>\n",
       "      <td>6</td>\n",
       "      <td>68.0</td>\n",
       "    </tr>\n",
       "    <tr>\n",
       "      <th>4</th>\n",
       "      <td>13352</td>\n",
       "      <td>333</td>\n",
       "      <td>s13352@oslomet.no</td>\n",
       "      <td>4</td>\n",
       "      <td>34.0</td>\n",
       "    </tr>\n",
       "  </tbody>\n",
       "</table>\n",
       "</div>"
      ],
      "text/plain": [
       "   StudentID  Age              email hrsStudy  FinalGrade\n",
       "0      47412   20  s47412@oslomet.no        5        46.0\n",
       "1      15077   22  s15077@oslomet.no        0        65.0\n",
       "2      15467   27  s15467@oslomet.no        1        26.0\n",
       "3      17907   21  s17907@oslomet.no        6        68.0\n",
       "4      13352  333  s13352@oslomet.no        4        34.0"
      ]
     },
     "execution_count": 3,
     "metadata": {},
     "output_type": "execute_result"
    }
   ],
   "source": [
    "df = pd.read_csv(url, sep=\",\")\n",
    "df.head()"
   ]
  },
  {
   "cell_type": "code",
   "execution_count": 4,
   "id": "7909f6c9",
   "metadata": {},
   "outputs": [
    {
     "data": {
      "text/html": [
       "<div>\n",
       "<style scoped>\n",
       "    .dataframe tbody tr th:only-of-type {\n",
       "        vertical-align: middle;\n",
       "    }\n",
       "\n",
       "    .dataframe tbody tr th {\n",
       "        vertical-align: top;\n",
       "    }\n",
       "\n",
       "    .dataframe thead th {\n",
       "        text-align: right;\n",
       "    }\n",
       "</style>\n",
       "<table border=\"1\" class=\"dataframe\">\n",
       "  <thead>\n",
       "    <tr style=\"text-align: right;\">\n",
       "      <th></th>\n",
       "      <th>StudentID</th>\n",
       "      <th>FinalGrade</th>\n",
       "    </tr>\n",
       "  </thead>\n",
       "  <tbody>\n",
       "    <tr>\n",
       "      <th>count</th>\n",
       "      <td>50.000000</td>\n",
       "      <td>49.000000</td>\n",
       "    </tr>\n",
       "    <tr>\n",
       "      <th>mean</th>\n",
       "      <td>48969.820000</td>\n",
       "      <td>71.653061</td>\n",
       "    </tr>\n",
       "    <tr>\n",
       "      <th>std</th>\n",
       "      <td>26870.066326</td>\n",
       "      <td>90.455917</td>\n",
       "    </tr>\n",
       "    <tr>\n",
       "      <th>min</th>\n",
       "      <td>10736.000000</td>\n",
       "      <td>24.000000</td>\n",
       "    </tr>\n",
       "    <tr>\n",
       "      <th>25%</th>\n",
       "      <td>26666.500000</td>\n",
       "      <td>39.000000</td>\n",
       "    </tr>\n",
       "    <tr>\n",
       "      <th>50%</th>\n",
       "      <td>44292.000000</td>\n",
       "      <td>60.000000</td>\n",
       "    </tr>\n",
       "    <tr>\n",
       "      <th>75%</th>\n",
       "      <td>70400.250000</td>\n",
       "      <td>78.000000</td>\n",
       "    </tr>\n",
       "    <tr>\n",
       "      <th>max</th>\n",
       "      <td>99823.000000</td>\n",
       "      <td>673.000000</td>\n",
       "    </tr>\n",
       "  </tbody>\n",
       "</table>\n",
       "</div>"
      ],
      "text/plain": [
       "          StudentID  FinalGrade\n",
       "count     50.000000   49.000000\n",
       "mean   48969.820000   71.653061\n",
       "std    26870.066326   90.455917\n",
       "min    10736.000000   24.000000\n",
       "25%    26666.500000   39.000000\n",
       "50%    44292.000000   60.000000\n",
       "75%    70400.250000   78.000000\n",
       "max    99823.000000  673.000000"
      ]
     },
     "execution_count": 4,
     "metadata": {},
     "output_type": "execute_result"
    }
   ],
   "source": [
    "df.describe()"
   ]
  },
  {
   "cell_type": "code",
   "execution_count": 5,
   "id": "f3a499bd",
   "metadata": {},
   "outputs": [
    {
     "name": "stdout",
     "output_type": "stream",
     "text": [
      "<class 'pandas.core.frame.DataFrame'>\n",
      "RangeIndex: 50 entries, 0 to 49\n",
      "Data columns (total 5 columns):\n",
      " #   Column      Non-Null Count  Dtype  \n",
      "---  ------      --------------  -----  \n",
      " 0   StudentID   50 non-null     int64  \n",
      " 1   Age         50 non-null     object \n",
      " 2   email       50 non-null     object \n",
      " 3   hrsStudy    50 non-null     object \n",
      " 4   FinalGrade  49 non-null     float64\n",
      "dtypes: float64(1), int64(1), object(3)\n",
      "memory usage: 2.1+ KB\n"
     ]
    }
   ],
   "source": [
    "df.info()"
   ]
  },
  {
   "cell_type": "code",
   "execution_count": 6,
   "id": "7923db89",
   "metadata": {},
   "outputs": [
    {
     "data": {
      "text/html": [
       "<div>\n",
       "<style scoped>\n",
       "    .dataframe tbody tr th:only-of-type {\n",
       "        vertical-align: middle;\n",
       "    }\n",
       "\n",
       "    .dataframe tbody tr th {\n",
       "        vertical-align: top;\n",
       "    }\n",
       "\n",
       "    .dataframe thead th {\n",
       "        text-align: right;\n",
       "    }\n",
       "</style>\n",
       "<table border=\"1\" class=\"dataframe\">\n",
       "  <thead>\n",
       "    <tr style=\"text-align: right;\">\n",
       "      <th></th>\n",
       "      <th>StudentID</th>\n",
       "      <th>Age</th>\n",
       "      <th>email</th>\n",
       "      <th>hrsStudy</th>\n",
       "      <th>FinalGrade</th>\n",
       "    </tr>\n",
       "  </thead>\n",
       "  <tbody>\n",
       "    <tr>\n",
       "      <th>0</th>\n",
       "      <td>47412</td>\n",
       "      <td>20</td>\n",
       "      <td>s47412@oslomet.no</td>\n",
       "      <td>5</td>\n",
       "      <td>46.0</td>\n",
       "    </tr>\n",
       "    <tr>\n",
       "      <th>1</th>\n",
       "      <td>15077</td>\n",
       "      <td>22</td>\n",
       "      <td>s15077@oslomet.no</td>\n",
       "      <td>0</td>\n",
       "      <td>65.0</td>\n",
       "    </tr>\n",
       "    <tr>\n",
       "      <th>2</th>\n",
       "      <td>15467</td>\n",
       "      <td>27</td>\n",
       "      <td>s15467@oslomet.no</td>\n",
       "      <td>1</td>\n",
       "      <td>26.0</td>\n",
       "    </tr>\n",
       "    <tr>\n",
       "      <th>3</th>\n",
       "      <td>17907</td>\n",
       "      <td>21</td>\n",
       "      <td>s17907@oslomet.no</td>\n",
       "      <td>6</td>\n",
       "      <td>68.0</td>\n",
       "    </tr>\n",
       "    <tr>\n",
       "      <th>4</th>\n",
       "      <td>13352</td>\n",
       "      <td>333</td>\n",
       "      <td>s13352@oslomet.no</td>\n",
       "      <td>4</td>\n",
       "      <td>34.0</td>\n",
       "    </tr>\n",
       "    <tr>\n",
       "      <th>5</th>\n",
       "      <td>88403</td>\n",
       "      <td>29</td>\n",
       "      <td>s88403@oslomet.no</td>\n",
       "      <td>11</td>\n",
       "      <td>62.0</td>\n",
       "    </tr>\n",
       "    <tr>\n",
       "      <th>6</th>\n",
       "      <td>56387</td>\n",
       "      <td>32</td>\n",
       "      <td>s56387@oslomet.no</td>\n",
       "      <td>9</td>\n",
       "      <td>29.0</td>\n",
       "    </tr>\n",
       "    <tr>\n",
       "      <th>7</th>\n",
       "      <td>95648</td>\n",
       "      <td>23</td>\n",
       "      <td>s95648@oslomet.no</td>\n",
       "      <td>3</td>\n",
       "      <td>38.0</td>\n",
       "    </tr>\n",
       "    <tr>\n",
       "      <th>8</th>\n",
       "      <td>63176</td>\n",
       "      <td>20</td>\n",
       "      <td>s63176@oslomet.no</td>\n",
       "      <td>0</td>\n",
       "      <td>98.0</td>\n",
       "    </tr>\n",
       "    <tr>\n",
       "      <th>9</th>\n",
       "      <td>15406</td>\n",
       "      <td>31</td>\n",
       "      <td>s15406@oslomet.no</td>\n",
       "      <td>2</td>\n",
       "      <td>68.0</td>\n",
       "    </tr>\n",
       "    <tr>\n",
       "      <th>10</th>\n",
       "      <td>41908</td>\n",
       "      <td>24</td>\n",
       "      <td>s41908@oslomet.no</td>\n",
       "      <td>0</td>\n",
       "      <td>62.0</td>\n",
       "    </tr>\n",
       "    <tr>\n",
       "      <th>11</th>\n",
       "      <td>35600</td>\n",
       "      <td>30</td>\n",
       "      <td>s35600@oslomet.no</td>\n",
       "      <td>11</td>\n",
       "      <td>70.0</td>\n",
       "    </tr>\n",
       "    <tr>\n",
       "      <th>12</th>\n",
       "      <td>16171</td>\n",
       "      <td>25</td>\n",
       "      <td>s16171@oslomet.no</td>\n",
       "      <td>10</td>\n",
       "      <td>81.0</td>\n",
       "    </tr>\n",
       "    <tr>\n",
       "      <th>13</th>\n",
       "      <td>55586</td>\n",
       "      <td>24</td>\n",
       "      <td>s55586@oslomet.no</td>\n",
       "      <td>7</td>\n",
       "      <td>31.0</td>\n",
       "    </tr>\n",
       "    <tr>\n",
       "      <th>14</th>\n",
       "      <td>71505</td>\n",
       "      <td>23</td>\n",
       "      <td>s71505@oslomet.no</td>\n",
       "      <td>1</td>\n",
       "      <td>49.0</td>\n",
       "    </tr>\n",
       "    <tr>\n",
       "      <th>15</th>\n",
       "      <td>31235</td>\n",
       "      <td>33</td>\n",
       "      <td>s31235@oslomet.no</td>\n",
       "      <td>1</td>\n",
       "      <td>72.0</td>\n",
       "    </tr>\n",
       "    <tr>\n",
       "      <th>16</th>\n",
       "      <td>80811</td>\n",
       "      <td>21</td>\n",
       "      <td>s80811@oslomet.no</td>\n",
       "      <td>6</td>\n",
       "      <td>51.0</td>\n",
       "    </tr>\n",
       "    <tr>\n",
       "      <th>17</th>\n",
       "      <td>33041</td>\n",
       "      <td>21</td>\n",
       "      <td>s33041@oslomet.no</td>\n",
       "      <td>2</td>\n",
       "      <td>97.0</td>\n",
       "    </tr>\n",
       "    <tr>\n",
       "      <th>18</th>\n",
       "      <td>99823</td>\n",
       "      <td>23</td>\n",
       "      <td>s99823@oslomet.no</td>\n",
       "      <td>10</td>\n",
       "      <td>56.0</td>\n",
       "    </tr>\n",
       "    <tr>\n",
       "      <th>19</th>\n",
       "      <td>41092</td>\n",
       "      <td>33</td>\n",
       "      <td>s41092@oslomet.no</td>\n",
       "      <td>10</td>\n",
       "      <td>42.0</td>\n",
       "    </tr>\n",
       "    <tr>\n",
       "      <th>20</th>\n",
       "      <td>15976</td>\n",
       "      <td>32</td>\n",
       "      <td>s15976@oslomet.no</td>\n",
       "      <td>9</td>\n",
       "      <td>78.0</td>\n",
       "    </tr>\n",
       "    <tr>\n",
       "      <th>21</th>\n",
       "      <td>91520</td>\n",
       "      <td>33</td>\n",
       "      <td>s91520@oslomet.no</td>\n",
       "      <td>9</td>\n",
       "      <td>60.0</td>\n",
       "    </tr>\n",
       "    <tr>\n",
       "      <th>22</th>\n",
       "      <td>11758</td>\n",
       "      <td>33</td>\n",
       "      <td>s11758@oslomet.no</td>\n",
       "      <td>6</td>\n",
       "      <td>54.0</td>\n",
       "    </tr>\n",
       "    <tr>\n",
       "      <th>23</th>\n",
       "      <td>67086</td>\n",
       "      <td>22</td>\n",
       "      <td>s67086@oslomet.no</td>\n",
       "      <td>10</td>\n",
       "      <td>51.0</td>\n",
       "    </tr>\n",
       "    <tr>\n",
       "      <th>24</th>\n",
       "      <td>84127</td>\n",
       "      <td>20</td>\n",
       "      <td>s84127@oslomet.no</td>\n",
       "      <td>5</td>\n",
       "      <td>92.0</td>\n",
       "    </tr>\n",
       "    <tr>\n",
       "      <th>25</th>\n",
       "      <td>59109</td>\n",
       "      <td>32</td>\n",
       "      <td>s59109@oslomet.no</td>\n",
       "      <td>7</td>\n",
       "      <td>97.0</td>\n",
       "    </tr>\n",
       "    <tr>\n",
       "      <th>26</th>\n",
       "      <td>10736</td>\n",
       "      <td>2</td>\n",
       "      <td>s10736@oslomet.no</td>\n",
       "      <td>10</td>\n",
       "      <td>NaN</td>\n",
       "    </tr>\n",
       "    <tr>\n",
       "      <th>27</th>\n",
       "      <td>71581</td>\n",
       "      <td>25</td>\n",
       "      <td>s71581@oslomet.no</td>\n",
       "      <td>9</td>\n",
       "      <td>26.0</td>\n",
       "    </tr>\n",
       "    <tr>\n",
       "      <th>28</th>\n",
       "      <td>29254</td>\n",
       "      <td>22</td>\n",
       "      <td>s29254@oslomet.no</td>\n",
       "      <td>10</td>\n",
       "      <td>88.0</td>\n",
       "    </tr>\n",
       "    <tr>\n",
       "      <th>29</th>\n",
       "      <td>20161</td>\n",
       "      <td>22</td>\n",
       "      <td>s20161@oslomet.no</td>\n",
       "      <td>11</td>\n",
       "      <td>90.0</td>\n",
       "    </tr>\n",
       "    <tr>\n",
       "      <th>30</th>\n",
       "      <td>21523</td>\n",
       "      <td>31</td>\n",
       "      <td>s21523@oslomet.no</td>\n",
       "      <td></td>\n",
       "      <td>51.0</td>\n",
       "    </tr>\n",
       "    <tr>\n",
       "      <th>31</th>\n",
       "      <td>66815</td>\n",
       "      <td>21</td>\n",
       "      <td>s66815@oslomet.no</td>\n",
       "      <td>8</td>\n",
       "      <td>35.0</td>\n",
       "    </tr>\n",
       "    <tr>\n",
       "      <th>32</th>\n",
       "      <td>26914</td>\n",
       "      <td>31</td>\n",
       "      <td>s26914@oslomet.no</td>\n",
       "      <td>9</td>\n",
       "      <td>93.0</td>\n",
       "    </tr>\n",
       "    <tr>\n",
       "      <th>33</th>\n",
       "      <td>58153</td>\n",
       "      <td>220</td>\n",
       "      <td>s58153@oslomet.no</td>\n",
       "      <td>10</td>\n",
       "      <td>35.0</td>\n",
       "    </tr>\n",
       "    <tr>\n",
       "      <th>34</th>\n",
       "      <td>58387</td>\n",
       "      <td>20</td>\n",
       "      <td>s58387@oslomet.no</td>\n",
       "      <td>9</td>\n",
       "      <td>673.0</td>\n",
       "    </tr>\n",
       "    <tr>\n",
       "      <th>35</th>\n",
       "      <td>44561</td>\n",
       "      <td>28</td>\n",
       "      <td>s44561@oslomet.no</td>\n",
       "      <td>10</td>\n",
       "      <td>78.0</td>\n",
       "    </tr>\n",
       "    <tr>\n",
       "      <th>36</th>\n",
       "      <td>84163</td>\n",
       "      <td>25</td>\n",
       "      <td>s84163@oslomet.no</td>\n",
       "      <td>7</td>\n",
       "      <td>71.0</td>\n",
       "    </tr>\n",
       "    <tr>\n",
       "      <th>37</th>\n",
       "      <td>26584</td>\n",
       "      <td>27</td>\n",
       "      <td>s26584@oslomet.no</td>\n",
       "      <td>10</td>\n",
       "      <td>31.0</td>\n",
       "    </tr>\n",
       "    <tr>\n",
       "      <th>38</th>\n",
       "      <td>74289</td>\n",
       "      <td>31</td>\n",
       "      <td>s74289@oslomet.no</td>\n",
       "      <td>6</td>\n",
       "      <td>45.0</td>\n",
       "    </tr>\n",
       "    <tr>\n",
       "      <th>39</th>\n",
       "      <td>30158</td>\n",
       "      <td>21</td>\n",
       "      <td>s30158@oslomet.no</td>\n",
       "      <td>3</td>\n",
       "      <td>37.0</td>\n",
       "    </tr>\n",
       "    <tr>\n",
       "      <th>40</th>\n",
       "      <td>25452</td>\n",
       "      <td>24</td>\n",
       "      <td>s25452@oslomet.no</td>\n",
       "      <td>10</td>\n",
       "      <td>41.0</td>\n",
       "    </tr>\n",
       "    <tr>\n",
       "      <th>41</th>\n",
       "      <td>92390</td>\n",
       "      <td></td>\n",
       "      <td>s92390@oslomet.no</td>\n",
       "      <td>2</td>\n",
       "      <td>35.0</td>\n",
       "    </tr>\n",
       "    <tr>\n",
       "      <th>42</th>\n",
       "      <td>83390</td>\n",
       "      <td>22</td>\n",
       "      <td>s83390@oslomet.no</td>\n",
       "      <td>7</td>\n",
       "      <td>88.0</td>\n",
       "    </tr>\n",
       "    <tr>\n",
       "      <th>43</th>\n",
       "      <td>32946</td>\n",
       "      <td>31</td>\n",
       "      <td>s32946@oslomet.no</td>\n",
       "      <td>10</td>\n",
       "      <td>24.0</td>\n",
       "    </tr>\n",
       "    <tr>\n",
       "      <th>44</th>\n",
       "      <td>44023</td>\n",
       "      <td>31</td>\n",
       "      <td>s44023@oslomet.no</td>\n",
       "      <td>6</td>\n",
       "      <td>83.0</td>\n",
       "    </tr>\n",
       "    <tr>\n",
       "      <th>45</th>\n",
       "      <td>62039</td>\n",
       "      <td>23</td>\n",
       "      <td>s62039@oslomet.no</td>\n",
       "      <td>4</td>\n",
       "      <td>46.0</td>\n",
       "    </tr>\n",
       "    <tr>\n",
       "      <th>46</th>\n",
       "      <td>42989</td>\n",
       "      <td>27</td>\n",
       "      <td>s42989@oslomet.no</td>\n",
       "      <td>0</td>\n",
       "      <td>80.0</td>\n",
       "    </tr>\n",
       "    <tr>\n",
       "      <th>47</th>\n",
       "      <td>85370</td>\n",
       "      <td>29</td>\n",
       "      <td>s85370@oslomet.no</td>\n",
       "      <td>2</td>\n",
       "      <td>77.0</td>\n",
       "    </tr>\n",
       "    <tr>\n",
       "      <th>48</th>\n",
       "      <td>63135</td>\n",
       "      <td>26</td>\n",
       "      <td>s63135@oslomet.no</td>\n",
       "      <td>9</td>\n",
       "      <td>39.0</td>\n",
       "    </tr>\n",
       "    <tr>\n",
       "      <th>49</th>\n",
       "      <td>28895</td>\n",
       "      <td>19</td>\n",
       "      <td>s28895@oslomet.no</td>\n",
       "      <td>10</td>\n",
       "      <td>68.0</td>\n",
       "    </tr>\n",
       "  </tbody>\n",
       "</table>\n",
       "</div>"
      ],
      "text/plain": [
       "    StudentID  Age              email hrsStudy  FinalGrade\n",
       "0       47412   20  s47412@oslomet.no        5        46.0\n",
       "1       15077   22  s15077@oslomet.no        0        65.0\n",
       "2       15467   27  s15467@oslomet.no        1        26.0\n",
       "3       17907   21  s17907@oslomet.no        6        68.0\n",
       "4       13352  333  s13352@oslomet.no        4        34.0\n",
       "5       88403   29  s88403@oslomet.no       11        62.0\n",
       "6       56387   32  s56387@oslomet.no        9        29.0\n",
       "7       95648   23  s95648@oslomet.no        3        38.0\n",
       "8       63176   20  s63176@oslomet.no        0        98.0\n",
       "9       15406   31  s15406@oslomet.no        2        68.0\n",
       "10      41908   24  s41908@oslomet.no        0        62.0\n",
       "11      35600   30  s35600@oslomet.no       11        70.0\n",
       "12      16171   25  s16171@oslomet.no       10        81.0\n",
       "13      55586   24  s55586@oslomet.no        7        31.0\n",
       "14      71505   23  s71505@oslomet.no        1        49.0\n",
       "15      31235   33  s31235@oslomet.no        1        72.0\n",
       "16      80811   21  s80811@oslomet.no        6        51.0\n",
       "17      33041   21  s33041@oslomet.no        2        97.0\n",
       "18      99823   23  s99823@oslomet.no       10        56.0\n",
       "19      41092   33  s41092@oslomet.no       10        42.0\n",
       "20      15976   32  s15976@oslomet.no        9        78.0\n",
       "21      91520   33  s91520@oslomet.no        9        60.0\n",
       "22      11758   33  s11758@oslomet.no        6        54.0\n",
       "23      67086   22  s67086@oslomet.no       10        51.0\n",
       "24      84127   20  s84127@oslomet.no        5        92.0\n",
       "25      59109   32  s59109@oslomet.no        7        97.0\n",
       "26      10736    2  s10736@oslomet.no       10         NaN\n",
       "27      71581   25  s71581@oslomet.no        9        26.0\n",
       "28      29254   22  s29254@oslomet.no       10        88.0\n",
       "29      20161   22  s20161@oslomet.no       11        90.0\n",
       "30      21523   31  s21523@oslomet.no                 51.0\n",
       "31      66815   21  s66815@oslomet.no        8        35.0\n",
       "32      26914   31  s26914@oslomet.no        9        93.0\n",
       "33      58153  220  s58153@oslomet.no       10        35.0\n",
       "34      58387   20  s58387@oslomet.no        9       673.0\n",
       "35      44561   28  s44561@oslomet.no       10        78.0\n",
       "36      84163   25  s84163@oslomet.no        7        71.0\n",
       "37      26584   27  s26584@oslomet.no       10        31.0\n",
       "38      74289   31  s74289@oslomet.no        6        45.0\n",
       "39      30158   21  s30158@oslomet.no        3        37.0\n",
       "40      25452   24  s25452@oslomet.no       10        41.0\n",
       "41      92390       s92390@oslomet.no        2        35.0\n",
       "42      83390   22  s83390@oslomet.no        7        88.0\n",
       "43      32946   31  s32946@oslomet.no       10        24.0\n",
       "44      44023   31  s44023@oslomet.no        6        83.0\n",
       "45      62039   23  s62039@oslomet.no        4        46.0\n",
       "46      42989   27  s42989@oslomet.no        0        80.0\n",
       "47      85370   29  s85370@oslomet.no        2        77.0\n",
       "48      63135   26  s63135@oslomet.no        9        39.0\n",
       "49      28895   19  s28895@oslomet.no       10        68.0"
      ]
     },
     "execution_count": 6,
     "metadata": {},
     "output_type": "execute_result"
    }
   ],
   "source": [
    "df"
   ]
  },
  {
   "cell_type": "code",
   "execution_count": 7,
   "id": "d6289066",
   "metadata": {},
   "outputs": [
    {
     "data": {
      "text/plain": [
       "StudentID     0\n",
       "Age           0\n",
       "email         0\n",
       "hrsStudy      0\n",
       "FinalGrade    1\n",
       "dtype: int64"
      ]
     },
     "execution_count": 7,
     "metadata": {},
     "output_type": "execute_result"
    }
   ],
   "source": [
    "df.isna().sum()"
   ]
  },
  {
   "cell_type": "code",
   "execution_count": 8,
   "id": "f19e61b4",
   "metadata": {},
   "outputs": [
    {
     "data": {
      "text/plain": [
       "StudentID     0\n",
       "Age           1\n",
       "email         0\n",
       "hrsStudy      1\n",
       "FinalGrade    1\n",
       "dtype: int64"
      ]
     },
     "execution_count": 8,
     "metadata": {},
     "output_type": "execute_result"
    }
   ],
   "source": [
    "#Lets first replace all empty cells wit np.nan\n",
    "df=df.replace(r'^\\s*$', np.nan, regex=True)\n",
    "#and check again\n",
    "df.isna().sum()"
   ]
  },
  {
   "cell_type": "code",
   "execution_count": 9,
   "id": "b0bce9e5",
   "metadata": {},
   "outputs": [],
   "source": [
    "df[\"Age\"] = df[\"Age\"].replace(np.nan, 0)\n"
   ]
  },
  {
   "cell_type": "code",
   "execution_count": 10,
   "id": "1688b563",
   "metadata": {},
   "outputs": [
    {
     "data": {
      "text/plain": [
       "StudentID     0\n",
       "Age           0\n",
       "email         0\n",
       "hrsStudy      1\n",
       "FinalGrade    1\n",
       "dtype: int64"
      ]
     },
     "execution_count": 10,
     "metadata": {},
     "output_type": "execute_result"
    }
   ],
   "source": [
    "df.isna().sum()"
   ]
  },
  {
   "cell_type": "code",
   "execution_count": 11,
   "id": "bc48b6e8",
   "metadata": {},
   "outputs": [
    {
     "data": {
      "text/plain": [
       "StudentID     0\n",
       "Age           0\n",
       "email         0\n",
       "hrsStudy      0\n",
       "FinalGrade    0\n",
       "dtype: int64"
      ]
     },
     "execution_count": 11,
     "metadata": {},
     "output_type": "execute_result"
    }
   ],
   "source": [
    "df.dropna(inplace = True)\n",
    "df.isna().sum()"
   ]
  },
  {
   "cell_type": "code",
   "execution_count": 12,
   "id": "2244c11d",
   "metadata": {},
   "outputs": [],
   "source": [
    "df[\"Age\"] = df[\"Age\"].astype(str).astype(int)\n",
    "df[\"hrsStudy\"] = df[\"hrsStudy\"].astype(str).astype(int)"
   ]
  },
  {
   "cell_type": "code",
   "execution_count": 13,
   "id": "8c49b7bd",
   "metadata": {},
   "outputs": [
    {
     "name": "stdout",
     "output_type": "stream",
     "text": [
      "<class 'pandas.core.frame.DataFrame'>\n",
      "Int64Index: 48 entries, 0 to 49\n",
      "Data columns (total 5 columns):\n",
      " #   Column      Non-Null Count  Dtype  \n",
      "---  ------      --------------  -----  \n",
      " 0   StudentID   48 non-null     int64  \n",
      " 1   Age         48 non-null     int32  \n",
      " 2   email       48 non-null     object \n",
      " 3   hrsStudy    48 non-null     int32  \n",
      " 4   FinalGrade  48 non-null     float64\n",
      "dtypes: float64(1), int32(2), int64(1), object(1)\n",
      "memory usage: 1.9+ KB\n"
     ]
    },
    {
     "data": {
      "text/html": [
       "<div>\n",
       "<style scoped>\n",
       "    .dataframe tbody tr th:only-of-type {\n",
       "        vertical-align: middle;\n",
       "    }\n",
       "\n",
       "    .dataframe tbody tr th {\n",
       "        vertical-align: top;\n",
       "    }\n",
       "\n",
       "    .dataframe thead th {\n",
       "        text-align: right;\n",
       "    }\n",
       "</style>\n",
       "<table border=\"1\" class=\"dataframe\">\n",
       "  <thead>\n",
       "    <tr style=\"text-align: right;\">\n",
       "      <th></th>\n",
       "      <th>StudentID</th>\n",
       "      <th>Age</th>\n",
       "      <th>hrsStudy</th>\n",
       "      <th>FinalGrade</th>\n",
       "    </tr>\n",
       "  </thead>\n",
       "  <tbody>\n",
       "    <tr>\n",
       "      <th>count</th>\n",
       "      <td>48.000000</td>\n",
       "      <td>48.000000</td>\n",
       "      <td>48.000000</td>\n",
       "      <td>48.000000</td>\n",
       "    </tr>\n",
       "    <tr>\n",
       "      <th>mean</th>\n",
       "      <td>50338.166667</td>\n",
       "      <td>35.666667</td>\n",
       "      <td>6.395833</td>\n",
       "      <td>72.083333</td>\n",
       "    </tr>\n",
       "    <tr>\n",
       "      <th>std</th>\n",
       "      <td>26526.981827</td>\n",
       "      <td>52.388619</td>\n",
       "      <td>3.648022</td>\n",
       "      <td>91.362461</td>\n",
       "    </tr>\n",
       "    <tr>\n",
       "      <th>min</th>\n",
       "      <td>11758.000000</td>\n",
       "      <td>0.000000</td>\n",
       "      <td>0.000000</td>\n",
       "      <td>24.000000</td>\n",
       "    </tr>\n",
       "    <tr>\n",
       "      <th>25%</th>\n",
       "      <td>28399.750000</td>\n",
       "      <td>22.000000</td>\n",
       "      <td>3.000000</td>\n",
       "      <td>38.750000</td>\n",
       "    </tr>\n",
       "    <tr>\n",
       "      <th>50%</th>\n",
       "      <td>45986.500000</td>\n",
       "      <td>25.000000</td>\n",
       "      <td>7.000000</td>\n",
       "      <td>61.000000</td>\n",
       "    </tr>\n",
       "    <tr>\n",
       "      <th>75%</th>\n",
       "      <td>71524.000000</td>\n",
       "      <td>31.000000</td>\n",
       "      <td>10.000000</td>\n",
       "      <td>78.500000</td>\n",
       "    </tr>\n",
       "    <tr>\n",
       "      <th>max</th>\n",
       "      <td>99823.000000</td>\n",
       "      <td>333.000000</td>\n",
       "      <td>11.000000</td>\n",
       "      <td>673.000000</td>\n",
       "    </tr>\n",
       "  </tbody>\n",
       "</table>\n",
       "</div>"
      ],
      "text/plain": [
       "          StudentID         Age   hrsStudy  FinalGrade\n",
       "count     48.000000   48.000000  48.000000   48.000000\n",
       "mean   50338.166667   35.666667   6.395833   72.083333\n",
       "std    26526.981827   52.388619   3.648022   91.362461\n",
       "min    11758.000000    0.000000   0.000000   24.000000\n",
       "25%    28399.750000   22.000000   3.000000   38.750000\n",
       "50%    45986.500000   25.000000   7.000000   61.000000\n",
       "75%    71524.000000   31.000000  10.000000   78.500000\n",
       "max    99823.000000  333.000000  11.000000  673.000000"
      ]
     },
     "execution_count": 13,
     "metadata": {},
     "output_type": "execute_result"
    }
   ],
   "source": [
    "df.info()\n",
    "df.describe()"
   ]
  },
  {
   "cell_type": "code",
   "execution_count": 14,
   "id": "d338f2ba",
   "metadata": {},
   "outputs": [
    {
     "data": {
      "text/plain": [
       "<Axes: >"
      ]
     },
     "execution_count": 14,
     "metadata": {},
     "output_type": "execute_result"
    },
    {
     "data": {
      "image/png": "[encoded data removed]",
      "text/plain": [
       "<Figure size 640x480 with 1 Axes>"
      ]
     },
     "metadata": {},
     "output_type": "display_data"
    }
   ],
   "source": [
    "df[\"FinalGrade\"].plot.line()"
   ]
  },
  {
   "cell_type": "code",
   "execution_count": 15,
   "id": "5ff06b34",
   "metadata": {},
   "outputs": [
    {
     "data": {
      "text/plain": [
       "<Axes: >"
      ]
     },
     "execution_count": 15,
     "metadata": {},
     "output_type": "execute_result"
    },
    {
     "data": {
      "image/png": "[encoded data removed]",
      "text/plain": [
       "<Figure size 640x480 with 1 Axes>"
      ]
     },
     "metadata": {},
     "output_type": "display_data"
    }
   ],
   "source": [
    "df[\"FinalGrade\"].plot.box()"
   ]
  },
  {
   "cell_type": "code",
   "execution_count": 16,
   "id": "b77a0869",
   "metadata": {},
   "outputs": [],
   "source": [
    "z_scores = stats.zscore(df[\"FinalGrade\"])\n",
    "abs_z_scores = np.abs(z_scores)\n",
    "df.drop(df[abs_z_scores > 3].index, inplace = True)"
   ]
  },
  {
   "cell_type": "code",
   "execution_count": 17,
   "id": "70830a3d",
   "metadata": {},
   "outputs": [
    {
     "data": {
      "text/plain": [
       "<Axes: >"
      ]
     },
     "execution_count": 17,
     "metadata": {},
     "output_type": "execute_result"
    },
    {
     "data": {
      "image/png": "[encoded data removed]",
      "text/plain": [
       "<Figure size 640x480 with 1 Axes>"
      ]
     },
     "metadata": {},
     "output_type": "display_data"
    }
   ],
   "source": [
    "df[\"FinalGrade\"].plot.box()"
   ]
  },
  {
   "cell_type": "code",
   "execution_count": 18,
   "id": "a497000e",
   "metadata": {},
   "outputs": [
    {
     "data": {
      "text/html": [
       "<div>\n",
       "<style scoped>\n",
       "    .dataframe tbody tr th:only-of-type {\n",
       "        vertical-align: middle;\n",
       "    }\n",
       "\n",
       "    .dataframe tbody tr th {\n",
       "        vertical-align: top;\n",
       "    }\n",
       "\n",
       "    .dataframe thead th {\n",
       "        text-align: right;\n",
       "    }\n",
       "</style>\n",
       "<table border=\"1\" class=\"dataframe\">\n",
       "  <thead>\n",
       "    <tr style=\"text-align: right;\">\n",
       "      <th></th>\n",
       "      <th>StudentID</th>\n",
       "      <th>Age</th>\n",
       "      <th>email</th>\n",
       "      <th>hrsStudy</th>\n",
       "      <th>FinalGrade</th>\n",
       "    </tr>\n",
       "  </thead>\n",
       "  <tbody>\n",
       "    <tr>\n",
       "      <th>45</th>\n",
       "      <td>62039</td>\n",
       "      <td>23</td>\n",
       "      <td>s62039@oslomet.no</td>\n",
       "      <td>4</td>\n",
       "      <td>46.0</td>\n",
       "    </tr>\n",
       "    <tr>\n",
       "      <th>46</th>\n",
       "      <td>42989</td>\n",
       "      <td>27</td>\n",
       "      <td>s42989@oslomet.no</td>\n",
       "      <td>0</td>\n",
       "      <td>80.0</td>\n",
       "    </tr>\n",
       "    <tr>\n",
       "      <th>47</th>\n",
       "      <td>85370</td>\n",
       "      <td>29</td>\n",
       "      <td>s85370@oslomet.no</td>\n",
       "      <td>2</td>\n",
       "      <td>77.0</td>\n",
       "    </tr>\n",
       "    <tr>\n",
       "      <th>48</th>\n",
       "      <td>63135</td>\n",
       "      <td>26</td>\n",
       "      <td>s63135@oslomet.no</td>\n",
       "      <td>9</td>\n",
       "      <td>39.0</td>\n",
       "    </tr>\n",
       "    <tr>\n",
       "      <th>49</th>\n",
       "      <td>28895</td>\n",
       "      <td>19</td>\n",
       "      <td>s28895@oslomet.no</td>\n",
       "      <td>10</td>\n",
       "      <td>68.0</td>\n",
       "    </tr>\n",
       "  </tbody>\n",
       "</table>\n",
       "</div>"
      ],
      "text/plain": [
       "    StudentID  Age              email  hrsStudy  FinalGrade\n",
       "45      62039   23  s62039@oslomet.no         4        46.0\n",
       "46      42989   27  s42989@oslomet.no         0        80.0\n",
       "47      85370   29  s85370@oslomet.no         2        77.0\n",
       "48      63135   26  s63135@oslomet.no         9        39.0\n",
       "49      28895   19  s28895@oslomet.no        10        68.0"
      ]
     },
     "execution_count": 18,
     "metadata": {},
     "output_type": "execute_result"
    }
   ],
   "source": [
    "df.tail(5)"
   ]
  },
  {
   "cell_type": "code",
   "execution_count": 19,
   "id": "7bec46fd",
   "metadata": {},
   "outputs": [
    {
     "data": {
      "text/html": [
       "<div>\n",
       "<style scoped>\n",
       "    .dataframe tbody tr th:only-of-type {\n",
       "        vertical-align: middle;\n",
       "    }\n",
       "\n",
       "    .dataframe tbody tr th {\n",
       "        vertical-align: top;\n",
       "    }\n",
       "\n",
       "    .dataframe thead th {\n",
       "        text-align: right;\n",
       "    }\n",
       "</style>\n",
       "<table border=\"1\" class=\"dataframe\">\n",
       "  <thead>\n",
       "    <tr style=\"text-align: right;\">\n",
       "      <th></th>\n",
       "      <th>StudentID</th>\n",
       "      <th>Age</th>\n",
       "      <th>email</th>\n",
       "      <th>hrsStudy</th>\n",
       "      <th>FinalGrade</th>\n",
       "    </tr>\n",
       "  </thead>\n",
       "  <tbody>\n",
       "    <tr>\n",
       "      <th>42</th>\n",
       "      <td>62039</td>\n",
       "      <td>23</td>\n",
       "      <td>s62039@oslomet.no</td>\n",
       "      <td>4</td>\n",
       "      <td>46.0</td>\n",
       "    </tr>\n",
       "    <tr>\n",
       "      <th>43</th>\n",
       "      <td>42989</td>\n",
       "      <td>27</td>\n",
       "      <td>s42989@oslomet.no</td>\n",
       "      <td>0</td>\n",
       "      <td>80.0</td>\n",
       "    </tr>\n",
       "    <tr>\n",
       "      <th>44</th>\n",
       "      <td>85370</td>\n",
       "      <td>29</td>\n",
       "      <td>s85370@oslomet.no</td>\n",
       "      <td>2</td>\n",
       "      <td>77.0</td>\n",
       "    </tr>\n",
       "    <tr>\n",
       "      <th>45</th>\n",
       "      <td>63135</td>\n",
       "      <td>26</td>\n",
       "      <td>s63135@oslomet.no</td>\n",
       "      <td>9</td>\n",
       "      <td>39.0</td>\n",
       "    </tr>\n",
       "    <tr>\n",
       "      <th>46</th>\n",
       "      <td>28895</td>\n",
       "      <td>19</td>\n",
       "      <td>s28895@oslomet.no</td>\n",
       "      <td>10</td>\n",
       "      <td>68.0</td>\n",
       "    </tr>\n",
       "  </tbody>\n",
       "</table>\n",
       "</div>"
      ],
      "text/plain": [
       "    StudentID  Age              email  hrsStudy  FinalGrade\n",
       "42      62039   23  s62039@oslomet.no         4        46.0\n",
       "43      42989   27  s42989@oslomet.no         0        80.0\n",
       "44      85370   29  s85370@oslomet.no         2        77.0\n",
       "45      63135   26  s63135@oslomet.no         9        39.0\n",
       "46      28895   19  s28895@oslomet.no        10        68.0"
      ]
     },
     "execution_count": 19,
     "metadata": {},
     "output_type": "execute_result"
    }
   ],
   "source": [
    "df = df.reset_index(drop = True)\n",
    "df.tail(5)"
   ]
  },
  {
   "cell_type": "code",
   "execution_count": 20,
   "id": "4110b3e8",
   "metadata": {},
   "outputs": [
    {
     "name": "stdout",
     "output_type": "stream",
     "text": [
      "<class 'pandas.core.frame.DataFrame'>\n",
      "RangeIndex: 47 entries, 0 to 46\n",
      "Data columns (total 5 columns):\n",
      " #   Column      Non-Null Count  Dtype  \n",
      "---  ------      --------------  -----  \n",
      " 0   StudentID   47 non-null     int64  \n",
      " 1   Age         47 non-null     int32  \n",
      " 2   email       47 non-null     object \n",
      " 3   hrsStudy    47 non-null     int32  \n",
      " 4   FinalGrade  47 non-null     float64\n",
      "dtypes: float64(1), int32(2), int64(1), object(1)\n",
      "memory usage: 1.6+ KB\n"
     ]
    }
   ],
   "source": [
    "df.info()"
   ]
  },
  {
   "cell_type": "code",
   "execution_count": 21,
   "id": "ff564063",
   "metadata": {},
   "outputs": [
    {
     "data": {
      "text/html": [
       "<div>\n",
       "<style scoped>\n",
       "    .dataframe tbody tr th:only-of-type {\n",
       "        vertical-align: middle;\n",
       "    }\n",
       "\n",
       "    .dataframe tbody tr th {\n",
       "        vertical-align: top;\n",
       "    }\n",
       "\n",
       "    .dataframe thead th {\n",
       "        text-align: right;\n",
       "    }\n",
       "</style>\n",
       "<table border=\"1\" class=\"dataframe\">\n",
       "  <thead>\n",
       "    <tr style=\"text-align: right;\">\n",
       "      <th></th>\n",
       "      <th>StudentID</th>\n",
       "      <th>Age</th>\n",
       "      <th>email</th>\n",
       "      <th>hrsStudy</th>\n",
       "      <th>FinalGrade</th>\n",
       "      <th>Grade</th>\n",
       "    </tr>\n",
       "  </thead>\n",
       "  <tbody>\n",
       "    <tr>\n",
       "      <th>0</th>\n",
       "      <td>47412</td>\n",
       "      <td>20</td>\n",
       "      <td>s47412@oslomet.no</td>\n",
       "      <td>5</td>\n",
       "      <td>46.0</td>\n",
       "      <td>F</td>\n",
       "    </tr>\n",
       "    <tr>\n",
       "      <th>1</th>\n",
       "      <td>15077</td>\n",
       "      <td>22</td>\n",
       "      <td>s15077@oslomet.no</td>\n",
       "      <td>0</td>\n",
       "      <td>65.0</td>\n",
       "      <td>D</td>\n",
       "    </tr>\n",
       "    <tr>\n",
       "      <th>2</th>\n",
       "      <td>15467</td>\n",
       "      <td>27</td>\n",
       "      <td>s15467@oslomet.no</td>\n",
       "      <td>1</td>\n",
       "      <td>26.0</td>\n",
       "      <td>F</td>\n",
       "    </tr>\n",
       "    <tr>\n",
       "      <th>3</th>\n",
       "      <td>17907</td>\n",
       "      <td>21</td>\n",
       "      <td>s17907@oslomet.no</td>\n",
       "      <td>6</td>\n",
       "      <td>68.0</td>\n",
       "      <td>D</td>\n",
       "    </tr>\n",
       "    <tr>\n",
       "      <th>4</th>\n",
       "      <td>13352</td>\n",
       "      <td>333</td>\n",
       "      <td>s13352@oslomet.no</td>\n",
       "      <td>4</td>\n",
       "      <td>34.0</td>\n",
       "      <td>F</td>\n",
       "    </tr>\n",
       "    <tr>\n",
       "      <th>5</th>\n",
       "      <td>88403</td>\n",
       "      <td>29</td>\n",
       "      <td>s88403@oslomet.no</td>\n",
       "      <td>11</td>\n",
       "      <td>62.0</td>\n",
       "      <td>D</td>\n",
       "    </tr>\n",
       "    <tr>\n",
       "      <th>6</th>\n",
       "      <td>56387</td>\n",
       "      <td>32</td>\n",
       "      <td>s56387@oslomet.no</td>\n",
       "      <td>9</td>\n",
       "      <td>29.0</td>\n",
       "      <td>F</td>\n",
       "    </tr>\n",
       "    <tr>\n",
       "      <th>7</th>\n",
       "      <td>95648</td>\n",
       "      <td>23</td>\n",
       "      <td>s95648@oslomet.no</td>\n",
       "      <td>3</td>\n",
       "      <td>38.0</td>\n",
       "      <td>F</td>\n",
       "    </tr>\n",
       "    <tr>\n",
       "      <th>8</th>\n",
       "      <td>63176</td>\n",
       "      <td>20</td>\n",
       "      <td>s63176@oslomet.no</td>\n",
       "      <td>0</td>\n",
       "      <td>98.0</td>\n",
       "      <td>A</td>\n",
       "    </tr>\n",
       "    <tr>\n",
       "      <th>9</th>\n",
       "      <td>15406</td>\n",
       "      <td>31</td>\n",
       "      <td>s15406@oslomet.no</td>\n",
       "      <td>2</td>\n",
       "      <td>68.0</td>\n",
       "      <td>D</td>\n",
       "    </tr>\n",
       "  </tbody>\n",
       "</table>\n",
       "</div>"
      ],
      "text/plain": [
       "   StudentID  Age              email  hrsStudy  FinalGrade Grade\n",
       "0      47412   20  s47412@oslomet.no         5        46.0     F\n",
       "1      15077   22  s15077@oslomet.no         0        65.0     D\n",
       "2      15467   27  s15467@oslomet.no         1        26.0     F\n",
       "3      17907   21  s17907@oslomet.no         6        68.0     D\n",
       "4      13352  333  s13352@oslomet.no         4        34.0     F\n",
       "5      88403   29  s88403@oslomet.no        11        62.0     D\n",
       "6      56387   32  s56387@oslomet.no         9        29.0     F\n",
       "7      95648   23  s95648@oslomet.no         3        38.0     F\n",
       "8      63176   20  s63176@oslomet.no         0        98.0     A\n",
       "9      15406   31  s15406@oslomet.no         2        68.0     D"
      ]
     },
     "execution_count": 21,
     "metadata": {},
     "output_type": "execute_result"
    }
   ],
   "source": [
    "conditions = [\n",
    "    (df[\"FinalGrade\"] <= 50.0),\n",
    "    (df[\"FinalGrade\"] > 50.0) & (df[\"FinalGrade\"] <= 60.0),\n",
    "    (df[\"FinalGrade\"] > 60.0) & (df[\"FinalGrade\"] <= 70.0),\n",
    "    (df[\"FinalGrade\"] > 70.0) & (df[\"FinalGrade\"] <= 80.0),\n",
    "    (df[\"FinalGrade\"] > 80.0) & (df[\"FinalGrade\"] <= 90.0),\n",
    "    (df[\"FinalGrade\"] > 90.0)\n",
    "    ]\n",
    "\n",
    "values = [\"F\", \"E\", \"D\", \"C\", \"B\", \"A\"]\n",
    "\n",
    "df[\"Grade\"] = np.select(conditions, values, default=\"F\")\n",
    "\n",
    "df.head(10)"
   ]
  },
  {
   "cell_type": "code",
   "execution_count": 22,
   "id": "f830a537",
   "metadata": {},
   "outputs": [
    {
     "data": {
      "text/plain": [
       "Grade\n",
       "A     5\n",
       "B     5\n",
       "C     6\n",
       "D     7\n",
       "E     5\n",
       "F    19\n",
       "Name: FinalGrade, dtype: int64"
      ]
     },
     "execution_count": 22,
     "metadata": {},
     "output_type": "execute_result"
    }
   ],
   "source": [
    "df_gradecount = df.groupby(\"Grade\").count()\n",
    "df_gradecount.FinalGrade"
   ]
  },
  {
   "cell_type": "code",
   "execution_count": 23,
   "id": "4365fcfb",
   "metadata": {},
   "outputs": [
    {
     "data": {
      "text/plain": [
       "<Axes: xlabel='Grade'>"
      ]
     },
     "execution_count": 23,
     "metadata": {},
     "output_type": "execute_result"
    },
    {
     "data": {
      "image/png": "[encoded data removed]",
      "text/plain": [
       "<Figure size 640x480 with 1 Axes>"
      ]
     },
     "metadata": {},
     "output_type": "display_data"
    }
   ],
   "source": [
    "df_gradecount[\"FinalGrade\"].plot.bar()"
   ]
  },
  {
   "cell_type": "code",
   "execution_count": 24,
   "id": "d5b87913",
   "metadata": {},
   "outputs": [
    {
     "data": {
      "text/plain": [
       "<Axes: xlabel='Age', ylabel='Grade'>"
      ]
     },
     "execution_count": 24,
     "metadata": {},
     "output_type": "execute_result"
    },
    {
     "data": {
      "image/png": "[encoded data removed]",
      "text/plain": [
       "<Figure size 640x480 with 1 Axes>"
      ]
     },
     "metadata": {},
     "output_type": "display_data"
    }
   ],
   "source": [
    "df.plot.scatter(x = \"Age\", y = \"Grade\", s = 100)"
   ]
  },
  {
   "cell_type": "code",
   "execution_count": 25,
   "id": "54824952",
   "metadata": {},
   "outputs": [
    {
     "data": {
      "text/plain": [
       "<Axes: xlabel='Age', ylabel='Grade'>"
      ]
     },
     "execution_count": 25,
     "metadata": {},
     "output_type": "execute_result"
    },
    {
     "data": {
      "image/png": "[encoded data removed]",
      "text/plain": [
       "<Figure size 640x480 with 1 Axes>"
      ]
     },
     "metadata": {},
     "output_type": "display_data"
    }
   ],
   "source": [
    "z_scores = stats.zscore(df[\"Age\"])\n",
    "abs_z_scores = np.abs(z_scores)\n",
    "df.drop(df[abs_z_scores > 3].index, inplace = True)\n",
    "df.plot.scatter(x = \"Age\", y = \"Grade\", s = 100)"
   ]
  },
  {
   "cell_type": "code",
   "execution_count": 26,
   "id": "eb80c15e",
   "metadata": {},
   "outputs": [
    {
     "data": {
      "text/plain": [
       "<Axes: ylabel='Frequency'>"
      ]
     },
     "execution_count": 26,
     "metadata": {},
     "output_type": "execute_result"
    },
    {
     "data": {
      "image/png": "[encoded data removed]",
      "text/plain": [
       "<Figure size 640x480 with 1 Axes>"
      ]
     },
     "metadata": {},
     "output_type": "display_data"
    }
   ],
   "source": [
    "df[\"Age\"].plot.hist(alpha = 0.5)"
   ]
  },
  {
   "cell_type": "code",
   "execution_count": 27,
   "id": "fbdd5325",
   "metadata": {},
   "outputs": [
    {
     "data": {
      "text/plain": [
       "<Axes: xlabel='Grade'>"
      ]
     },
     "execution_count": 27,
     "metadata": {},
     "output_type": "execute_result"
    },
    {
     "data": {
      "image/png": "[encoded data removed]",
      "text/plain": [
       "<Figure size 640x480 with 1 Axes>"
      ]
     },
     "metadata": {},
     "output_type": "display_data"
    }
   ],
   "source": [
    "df_gradecount[\"FinalGrade\"].plot.area(stacked=False)"
   ]
  },
  {
   "cell_type": "code",
   "execution_count": 28,
   "id": "f3d9129b",
   "metadata": {},
   "outputs": [
    {
     "ename": "FileNotFoundError",
     "evalue": "[Errno 2] No such file or directory: 'C:\\\\Users\\\\henri\\\\Documents\\\\Dave3625-Host-2025\\\\Lab2\\\\data\\\\IMDB-Movie.csv'",
     "output_type": "error",
     "traceback": [
      "\u001b[1;31m---------------------------------------------------------------------------\u001b[0m",
      "\u001b[1;31mFileNotFoundError\u001b[0m                         Traceback (most recent call last)",
      "Cell \u001b[1;32mIn[28], line 2\u001b[0m\n\u001b[0;32m      1\u001b[0m url2 \u001b[38;5;241m=\u001b[39m (\u001b[38;5;124mr\u001b[39m\u001b[38;5;124m\"\u001b[39m\u001b[38;5;124mC:\u001b[39m\u001b[38;5;124m\\\u001b[39m\u001b[38;5;124mUsers\u001b[39m\u001b[38;5;124m\\\u001b[39m\u001b[38;5;124mhenri\u001b[39m\u001b[38;5;124m\\\u001b[39m\u001b[38;5;124mDocuments\u001b[39m\u001b[38;5;124m\\\u001b[39m\u001b[38;5;124mDave3625-Host-2025\u001b[39m\u001b[38;5;124m\\\u001b[39m\u001b[38;5;124mLab2\u001b[39m\u001b[38;5;124m\\\u001b[39m\u001b[38;5;124mdata\u001b[39m\u001b[38;5;124m\\\u001b[39m\u001b[38;5;124mIMDB-Movie.csv\u001b[39m\u001b[38;5;124m\"\u001b[39m)\n\u001b[1;32m----> 2\u001b[0m df2 \u001b[38;5;241m=\u001b[39m pd\u001b[38;5;241m.\u001b[39mread_csv(url2, sep\u001b[38;5;241m=\u001b[39m\u001b[38;5;124m\"\u001b[39m\u001b[38;5;124m,\u001b[39m\u001b[38;5;124m\"\u001b[39m)\n\u001b[0;32m      3\u001b[0m df2\u001b[38;5;241m.\u001b[39mhead()\n",
      "File \u001b[1;32mc:\\Users\\henri\\anaconda3\\Lib\\site-packages\\pandas\\util\\_decorators.py:211\u001b[0m, in \u001b[0;36mdeprecate_kwarg.<locals>._deprecate_kwarg.<locals>.wrapper\u001b[1;34m(*args, **kwargs)\u001b[0m\n\u001b[0;32m    209\u001b[0m     \u001b[38;5;28;01melse\u001b[39;00m:\n\u001b[0;32m    210\u001b[0m         kwargs[new_arg_name] \u001b[38;5;241m=\u001b[39m new_arg_value\n\u001b[1;32m--> 211\u001b[0m \u001b[38;5;28;01mreturn\u001b[39;00m func(\u001b[38;5;241m*\u001b[39margs, \u001b[38;5;241m*\u001b[39m\u001b[38;5;241m*\u001b[39mkwargs)\n",
      "File \u001b[1;32mc:\\Users\\henri\\anaconda3\\Lib\\site-packages\\pandas\\util\\_decorators.py:331\u001b[0m, in \u001b[0;36mdeprecate_nonkeyword_arguments.<locals>.decorate.<locals>.wrapper\u001b[1;34m(*args, **kwargs)\u001b[0m\n\u001b[0;32m    325\u001b[0m \u001b[38;5;28;01mif\u001b[39;00m \u001b[38;5;28mlen\u001b[39m(args) \u001b[38;5;241m>\u001b[39m num_allow_args:\n\u001b[0;32m    326\u001b[0m     warnings\u001b[38;5;241m.\u001b[39mwarn(\n\u001b[0;32m    327\u001b[0m         msg\u001b[38;5;241m.\u001b[39mformat(arguments\u001b[38;5;241m=\u001b[39m_format_argument_list(allow_args)),\n\u001b[0;32m    328\u001b[0m         \u001b[38;5;167;01mFutureWarning\u001b[39;00m,\n\u001b[0;32m    329\u001b[0m         stacklevel\u001b[38;5;241m=\u001b[39mfind_stack_level(),\n\u001b[0;32m    330\u001b[0m     )\n\u001b[1;32m--> 331\u001b[0m \u001b[38;5;28;01mreturn\u001b[39;00m func(\u001b[38;5;241m*\u001b[39margs, \u001b[38;5;241m*\u001b[39m\u001b[38;5;241m*\u001b[39mkwargs)\n",
      "File \u001b[1;32mc:\\Users\\henri\\anaconda3\\Lib\\site-packages\\pandas\\io\\parsers\\readers.py:950\u001b[0m, in \u001b[0;36mread_csv\u001b[1;34m(filepath_or_buffer, sep, delimiter, header, names, index_col, usecols, squeeze, prefix, mangle_dupe_cols, dtype, engine, converters, true_values, false_values, skipinitialspace, skiprows, skipfooter, nrows, na_values, keep_default_na, na_filter, verbose, skip_blank_lines, parse_dates, infer_datetime_format, keep_date_col, date_parser, dayfirst, cache_dates, iterator, chunksize, compression, thousands, decimal, lineterminator, quotechar, quoting, doublequote, escapechar, comment, encoding, encoding_errors, dialect, error_bad_lines, warn_bad_lines, on_bad_lines, delim_whitespace, low_memory, memory_map, float_precision, storage_options)\u001b[0m\n\u001b[0;32m    935\u001b[0m kwds_defaults \u001b[38;5;241m=\u001b[39m _refine_defaults_read(\n\u001b[0;32m    936\u001b[0m     dialect,\n\u001b[0;32m    937\u001b[0m     delimiter,\n\u001b[1;32m   (...)\u001b[0m\n\u001b[0;32m    946\u001b[0m     defaults\u001b[38;5;241m=\u001b[39m{\u001b[38;5;124m\"\u001b[39m\u001b[38;5;124mdelimiter\u001b[39m\u001b[38;5;124m\"\u001b[39m: \u001b[38;5;124m\"\u001b[39m\u001b[38;5;124m,\u001b[39m\u001b[38;5;124m\"\u001b[39m},\n\u001b[0;32m    947\u001b[0m )\n\u001b[0;32m    948\u001b[0m kwds\u001b[38;5;241m.\u001b[39mupdate(kwds_defaults)\n\u001b[1;32m--> 950\u001b[0m \u001b[38;5;28;01mreturn\u001b[39;00m _read(filepath_or_buffer, kwds)\n",
      "File \u001b[1;32mc:\\Users\\henri\\anaconda3\\Lib\\site-packages\\pandas\\io\\parsers\\readers.py:605\u001b[0m, in \u001b[0;36m_read\u001b[1;34m(filepath_or_buffer, kwds)\u001b[0m\n\u001b[0;32m    602\u001b[0m _validate_names(kwds\u001b[38;5;241m.\u001b[39mget(\u001b[38;5;124m\"\u001b[39m\u001b[38;5;124mnames\u001b[39m\u001b[38;5;124m\"\u001b[39m, \u001b[38;5;28;01mNone\u001b[39;00m))\n\u001b[0;32m    604\u001b[0m \u001b[38;5;66;03m# Create the parser.\u001b[39;00m\n\u001b[1;32m--> 605\u001b[0m parser \u001b[38;5;241m=\u001b[39m TextFileReader(filepath_or_buffer, \u001b[38;5;241m*\u001b[39m\u001b[38;5;241m*\u001b[39mkwds)\n\u001b[0;32m    607\u001b[0m \u001b[38;5;28;01mif\u001b[39;00m chunksize \u001b[38;5;129;01mor\u001b[39;00m iterator:\n\u001b[0;32m    608\u001b[0m     \u001b[38;5;28;01mreturn\u001b[39;00m parser\n",
      "File \u001b[1;32mc:\\Users\\henri\\anaconda3\\Lib\\site-packages\\pandas\\io\\parsers\\readers.py:1442\u001b[0m, in \u001b[0;36mTextFileReader.__init__\u001b[1;34m(self, f, engine, **kwds)\u001b[0m\n\u001b[0;32m   1439\u001b[0m     \u001b[38;5;28mself\u001b[39m\u001b[38;5;241m.\u001b[39moptions[\u001b[38;5;124m\"\u001b[39m\u001b[38;5;124mhas_index_names\u001b[39m\u001b[38;5;124m\"\u001b[39m] \u001b[38;5;241m=\u001b[39m kwds[\u001b[38;5;124m\"\u001b[39m\u001b[38;5;124mhas_index_names\u001b[39m\u001b[38;5;124m\"\u001b[39m]\n\u001b[0;32m   1441\u001b[0m \u001b[38;5;28mself\u001b[39m\u001b[38;5;241m.\u001b[39mhandles: IOHandles \u001b[38;5;241m|\u001b[39m \u001b[38;5;28;01mNone\u001b[39;00m \u001b[38;5;241m=\u001b[39m \u001b[38;5;28;01mNone\u001b[39;00m\n\u001b[1;32m-> 1442\u001b[0m \u001b[38;5;28mself\u001b[39m\u001b[38;5;241m.\u001b[39m_engine \u001b[38;5;241m=\u001b[39m \u001b[38;5;28mself\u001b[39m\u001b[38;5;241m.\u001b[39m_make_engine(f, \u001b[38;5;28mself\u001b[39m\u001b[38;5;241m.\u001b[39mengine)\n",
      "File \u001b[1;32mc:\\Users\\henri\\anaconda3\\Lib\\site-packages\\pandas\\io\\parsers\\readers.py:1735\u001b[0m, in \u001b[0;36mTextFileReader._make_engine\u001b[1;34m(self, f, engine)\u001b[0m\n\u001b[0;32m   1733\u001b[0m     \u001b[38;5;28;01mif\u001b[39;00m \u001b[38;5;124m\"\u001b[39m\u001b[38;5;124mb\u001b[39m\u001b[38;5;124m\"\u001b[39m \u001b[38;5;129;01mnot\u001b[39;00m \u001b[38;5;129;01min\u001b[39;00m mode:\n\u001b[0;32m   1734\u001b[0m         mode \u001b[38;5;241m+\u001b[39m\u001b[38;5;241m=\u001b[39m \u001b[38;5;124m\"\u001b[39m\u001b[38;5;124mb\u001b[39m\u001b[38;5;124m\"\u001b[39m\n\u001b[1;32m-> 1735\u001b[0m \u001b[38;5;28mself\u001b[39m\u001b[38;5;241m.\u001b[39mhandles \u001b[38;5;241m=\u001b[39m get_handle(\n\u001b[0;32m   1736\u001b[0m     f,\n\u001b[0;32m   1737\u001b[0m     mode,\n\u001b[0;32m   1738\u001b[0m     encoding\u001b[38;5;241m=\u001b[39m\u001b[38;5;28mself\u001b[39m\u001b[38;5;241m.\u001b[39moptions\u001b[38;5;241m.\u001b[39mget(\u001b[38;5;124m\"\u001b[39m\u001b[38;5;124mencoding\u001b[39m\u001b[38;5;124m\"\u001b[39m, \u001b[38;5;28;01mNone\u001b[39;00m),\n\u001b[0;32m   1739\u001b[0m     compression\u001b[38;5;241m=\u001b[39m\u001b[38;5;28mself\u001b[39m\u001b[38;5;241m.\u001b[39moptions\u001b[38;5;241m.\u001b[39mget(\u001b[38;5;124m\"\u001b[39m\u001b[38;5;124mcompression\u001b[39m\u001b[38;5;124m\"\u001b[39m, \u001b[38;5;28;01mNone\u001b[39;00m),\n\u001b[0;32m   1740\u001b[0m     memory_map\u001b[38;5;241m=\u001b[39m\u001b[38;5;28mself\u001b[39m\u001b[38;5;241m.\u001b[39moptions\u001b[38;5;241m.\u001b[39mget(\u001b[38;5;124m\"\u001b[39m\u001b[38;5;124mmemory_map\u001b[39m\u001b[38;5;124m\"\u001b[39m, \u001b[38;5;28;01mFalse\u001b[39;00m),\n\u001b[0;32m   1741\u001b[0m     is_text\u001b[38;5;241m=\u001b[39mis_text,\n\u001b[0;32m   1742\u001b[0m     errors\u001b[38;5;241m=\u001b[39m\u001b[38;5;28mself\u001b[39m\u001b[38;5;241m.\u001b[39moptions\u001b[38;5;241m.\u001b[39mget(\u001b[38;5;124m\"\u001b[39m\u001b[38;5;124mencoding_errors\u001b[39m\u001b[38;5;124m\"\u001b[39m, \u001b[38;5;124m\"\u001b[39m\u001b[38;5;124mstrict\u001b[39m\u001b[38;5;124m\"\u001b[39m),\n\u001b[0;32m   1743\u001b[0m     storage_options\u001b[38;5;241m=\u001b[39m\u001b[38;5;28mself\u001b[39m\u001b[38;5;241m.\u001b[39moptions\u001b[38;5;241m.\u001b[39mget(\u001b[38;5;124m\"\u001b[39m\u001b[38;5;124mstorage_options\u001b[39m\u001b[38;5;124m\"\u001b[39m, \u001b[38;5;28;01mNone\u001b[39;00m),\n\u001b[0;32m   1744\u001b[0m )\n\u001b[0;32m   1745\u001b[0m \u001b[38;5;28;01massert\u001b[39;00m \u001b[38;5;28mself\u001b[39m\u001b[38;5;241m.\u001b[39mhandles \u001b[38;5;129;01mis\u001b[39;00m \u001b[38;5;129;01mnot\u001b[39;00m \u001b[38;5;28;01mNone\u001b[39;00m\n\u001b[0;32m   1746\u001b[0m f \u001b[38;5;241m=\u001b[39m \u001b[38;5;28mself\u001b[39m\u001b[38;5;241m.\u001b[39mhandles\u001b[38;5;241m.\u001b[39mhandle\n",
      "File \u001b[1;32mc:\\Users\\henri\\anaconda3\\Lib\\site-packages\\pandas\\io\\common.py:856\u001b[0m, in \u001b[0;36mget_handle\u001b[1;34m(path_or_buf, mode, encoding, compression, memory_map, is_text, errors, storage_options)\u001b[0m\n\u001b[0;32m    851\u001b[0m \u001b[38;5;28;01melif\u001b[39;00m \u001b[38;5;28misinstance\u001b[39m(handle, \u001b[38;5;28mstr\u001b[39m):\n\u001b[0;32m    852\u001b[0m     \u001b[38;5;66;03m# Check whether the filename is to be opened in binary mode.\u001b[39;00m\n\u001b[0;32m    853\u001b[0m     \u001b[38;5;66;03m# Binary mode does not support 'encoding' and 'newline'.\u001b[39;00m\n\u001b[0;32m    854\u001b[0m     \u001b[38;5;28;01mif\u001b[39;00m ioargs\u001b[38;5;241m.\u001b[39mencoding \u001b[38;5;129;01mand\u001b[39;00m \u001b[38;5;124m\"\u001b[39m\u001b[38;5;124mb\u001b[39m\u001b[38;5;124m\"\u001b[39m \u001b[38;5;129;01mnot\u001b[39;00m \u001b[38;5;129;01min\u001b[39;00m ioargs\u001b[38;5;241m.\u001b[39mmode:\n\u001b[0;32m    855\u001b[0m         \u001b[38;5;66;03m# Encoding\u001b[39;00m\n\u001b[1;32m--> 856\u001b[0m         handle \u001b[38;5;241m=\u001b[39m \u001b[38;5;28mopen\u001b[39m(\n\u001b[0;32m    857\u001b[0m             handle,\n\u001b[0;32m    858\u001b[0m             ioargs\u001b[38;5;241m.\u001b[39mmode,\n\u001b[0;32m    859\u001b[0m             encoding\u001b[38;5;241m=\u001b[39mioargs\u001b[38;5;241m.\u001b[39mencoding,\n\u001b[0;32m    860\u001b[0m             errors\u001b[38;5;241m=\u001b[39merrors,\n\u001b[0;32m    861\u001b[0m             newline\u001b[38;5;241m=\u001b[39m\u001b[38;5;124m\"\u001b[39m\u001b[38;5;124m\"\u001b[39m,\n\u001b[0;32m    862\u001b[0m         )\n\u001b[0;32m    863\u001b[0m     \u001b[38;5;28;01melse\u001b[39;00m:\n\u001b[0;32m    864\u001b[0m         \u001b[38;5;66;03m# Binary mode\u001b[39;00m\n\u001b[0;32m    865\u001b[0m         handle \u001b[38;5;241m=\u001b[39m \u001b[38;5;28mopen\u001b[39m(handle, ioargs\u001b[38;5;241m.\u001b[39mmode)\n",
      "\u001b[1;31mFileNotFoundError\u001b[0m: [Errno 2] No such file or directory: 'C:\\\\Users\\\\henri\\\\Documents\\\\Dave3625-Host-2025\\\\Lab2\\\\data\\\\IMDB-Movie.csv'"
     ]
    }
   ],
   "source": [
    "url2 = (r\"C:\\Users\\henri\\Documents\\Dave3625-Host-2025\\Lab2\\data\\IMDB-Movie.csv\")\n",
    "df2 = pd.read_csv(url2, sep=\",\")\n",
    "df2.head()"
   ]
  },
  {
   "cell_type": "code",
   "execution_count": null,
   "id": "2d700818",
   "metadata": {},
   "outputs": [
    {
     "name": "stdout",
     "output_type": "stream",
     "text": [
      "<class 'pandas.core.frame.DataFrame'>\n",
      "RangeIndex: 1000 entries, 0 to 999\n",
      "Data columns (total 12 columns):\n",
      " #   Column              Non-Null Count  Dtype  \n",
      "---  ------              --------------  -----  \n",
      " 0   Rank                1000 non-null   int64  \n",
      " 1   Title               1000 non-null   object \n",
      " 2   Genre               1000 non-null   object \n",
      " 3   Description         1000 non-null   object \n",
      " 4   Director            1000 non-null   object \n",
      " 5   Actors              1000 non-null   object \n",
      " 6   Year                1000 non-null   int64  \n",
      " 7   Runtime (Minutes)   1000 non-null   int64  \n",
      " 8   Rating              1000 non-null   float64\n",
      " 9   Votes               1000 non-null   int64  \n",
      " 10  Revenue (Millions)  872 non-null    float64\n",
      " 11  Metascore           936 non-null    float64\n",
      "dtypes: float64(3), int64(4), object(5)\n",
      "memory usage: 93.9+ KB\n"
     ]
    }
   ],
   "source": [
    "df2.info()"
   ]
  },
  {
   "cell_type": "code",
   "execution_count": null,
   "id": "70c19ef9",
   "metadata": {},
   "outputs": [
    {
     "data": {
      "text/plain": [
       "(1000, 12)"
      ]
     },
     "execution_count": 34,
     "metadata": {},
     "output_type": "execute_result"
    }
   ],
   "source": [
    "df2.shape"
   ]
  },
  {
   "cell_type": "code",
   "execution_count": null,
   "id": "b8c9a285",
   "metadata": {},
   "outputs": [
    {
     "data": {
      "text/html": [
       "<div>\n",
       "<style scoped>\n",
       "    .dataframe tbody tr th:only-of-type {\n",
       "        vertical-align: middle;\n",
       "    }\n",
       "\n",
       "    .dataframe tbody tr th {\n",
       "        vertical-align: top;\n",
       "    }\n",
       "\n",
       "    .dataframe thead th {\n",
       "        text-align: right;\n",
       "    }\n",
       "</style>\n",
       "<table border=\"1\" class=\"dataframe\">\n",
       "  <thead>\n",
       "    <tr style=\"text-align: right;\">\n",
       "      <th></th>\n",
       "      <th>Rank</th>\n",
       "      <th>Year</th>\n",
       "      <th>Runtime (Minutes)</th>\n",
       "      <th>Rating</th>\n",
       "      <th>Votes</th>\n",
       "      <th>Revenue (Millions)</th>\n",
       "      <th>Metascore</th>\n",
       "    </tr>\n",
       "  </thead>\n",
       "  <tbody>\n",
       "    <tr>\n",
       "      <th>count</th>\n",
       "      <td>1000.000000</td>\n",
       "      <td>1000.000000</td>\n",
       "      <td>1000.000000</td>\n",
       "      <td>1000.000000</td>\n",
       "      <td>1.000000e+03</td>\n",
       "      <td>872.000000</td>\n",
       "      <td>936.000000</td>\n",
       "    </tr>\n",
       "    <tr>\n",
       "      <th>mean</th>\n",
       "      <td>500.500000</td>\n",
       "      <td>2012.783000</td>\n",
       "      <td>113.172000</td>\n",
       "      <td>6.723200</td>\n",
       "      <td>1.698083e+05</td>\n",
       "      <td>82.956376</td>\n",
       "      <td>58.985043</td>\n",
       "    </tr>\n",
       "    <tr>\n",
       "      <th>std</th>\n",
       "      <td>288.819436</td>\n",
       "      <td>3.205962</td>\n",
       "      <td>18.810908</td>\n",
       "      <td>0.945429</td>\n",
       "      <td>1.887626e+05</td>\n",
       "      <td>103.253540</td>\n",
       "      <td>17.194757</td>\n",
       "    </tr>\n",
       "    <tr>\n",
       "      <th>min</th>\n",
       "      <td>1.000000</td>\n",
       "      <td>2006.000000</td>\n",
       "      <td>66.000000</td>\n",
       "      <td>1.900000</td>\n",
       "      <td>6.100000e+01</td>\n",
       "      <td>0.000000</td>\n",
       "      <td>11.000000</td>\n",
       "    </tr>\n",
       "    <tr>\n",
       "      <th>25%</th>\n",
       "      <td>250.750000</td>\n",
       "      <td>2010.000000</td>\n",
       "      <td>100.000000</td>\n",
       "      <td>6.200000</td>\n",
       "      <td>3.630900e+04</td>\n",
       "      <td>13.270000</td>\n",
       "      <td>47.000000</td>\n",
       "    </tr>\n",
       "    <tr>\n",
       "      <th>50%</th>\n",
       "      <td>500.500000</td>\n",
       "      <td>2014.000000</td>\n",
       "      <td>111.000000</td>\n",
       "      <td>6.800000</td>\n",
       "      <td>1.107990e+05</td>\n",
       "      <td>47.985000</td>\n",
       "      <td>59.500000</td>\n",
       "    </tr>\n",
       "    <tr>\n",
       "      <th>75%</th>\n",
       "      <td>750.250000</td>\n",
       "      <td>2016.000000</td>\n",
       "      <td>123.000000</td>\n",
       "      <td>7.400000</td>\n",
       "      <td>2.399098e+05</td>\n",
       "      <td>113.715000</td>\n",
       "      <td>72.000000</td>\n",
       "    </tr>\n",
       "    <tr>\n",
       "      <th>max</th>\n",
       "      <td>1000.000000</td>\n",
       "      <td>2016.000000</td>\n",
       "      <td>191.000000</td>\n",
       "      <td>9.000000</td>\n",
       "      <td>1.791916e+06</td>\n",
       "      <td>936.630000</td>\n",
       "      <td>100.000000</td>\n",
       "    </tr>\n",
       "  </tbody>\n",
       "</table>\n",
       "</div>"
      ],
      "text/plain": [
       "              Rank         Year  Runtime (Minutes)       Rating         Votes  \\\n",
       "count  1000.000000  1000.000000        1000.000000  1000.000000  1.000000e+03   \n",
       "mean    500.500000  2012.783000         113.172000     6.723200  1.698083e+05   \n",
       "std     288.819436     3.205962          18.810908     0.945429  1.887626e+05   \n",
       "min       1.000000  2006.000000          66.000000     1.900000  6.100000e+01   \n",
       "25%     250.750000  2010.000000         100.000000     6.200000  3.630900e+04   \n",
       "50%     500.500000  2014.000000         111.000000     6.800000  1.107990e+05   \n",
       "75%     750.250000  2016.000000         123.000000     7.400000  2.399098e+05   \n",
       "max    1000.000000  2016.000000         191.000000     9.000000  1.791916e+06   \n",
       "\n",
       "       Revenue (Millions)   Metascore  \n",
       "count          872.000000  936.000000  \n",
       "mean            82.956376   58.985043  \n",
       "std            103.253540   17.194757  \n",
       "min              0.000000   11.000000  \n",
       "25%             13.270000   47.000000  \n",
       "50%             47.985000   59.500000  \n",
       "75%            113.715000   72.000000  \n",
       "max            936.630000  100.000000  "
      ]
     },
     "execution_count": 35,
     "metadata": {},
     "output_type": "execute_result"
    }
   ],
   "source": [
    "df2.describe()"
   ]
  },
  {
   "cell_type": "code",
   "execution_count": null,
   "id": "040b9f2a",
   "metadata": {},
   "outputs": [
    {
     "data": {
      "text/plain": [
       "Rank                    0\n",
       "Title                   0\n",
       "Genre                   0\n",
       "Description             0\n",
       "Director                0\n",
       "Actors                  0\n",
       "Year                    0\n",
       "Runtime (Minutes)       0\n",
       "Rating                  0\n",
       "Votes                   0\n",
       "Revenue (Millions)    128\n",
       "Metascore              64\n",
       "dtype: int64"
      ]
     },
     "execution_count": 36,
     "metadata": {},
     "output_type": "execute_result"
    }
   ],
   "source": [
    "#Lets first replace all empty cells wit np.nan\n",
    "df2=df2.replace(r'^\\s*$', np.nan, regex=True)\n",
    "#and check again\n",
    "df2.isna().sum()"
   ]
  },
  {
   "cell_type": "code",
   "execution_count": null,
   "id": "ce91679e",
   "metadata": {},
   "outputs": [
    {
     "data": {
      "text/plain": [
       "<Axes: >"
      ]
     },
     "execution_count": 37,
     "metadata": {},
     "output_type": "execute_result"
    },
    {
     "data": {
      "image/png": "[encoded data removed]",
      "text/plain": [
       "<Figure size 640x480 with 1 Axes>"
      ]
     },
     "metadata": {},
     "output_type": "display_data"
    }
   ],
   "source": [
    "df2[\"Revenue (Millions)\"].plot.line()"
   ]
  },
  {
   "cell_type": "code",
   "execution_count": null,
   "id": "c0306821",
   "metadata": {},
   "outputs": [
    {
     "data": {
      "text/plain": [
       "<Axes: >"
      ]
     },
     "execution_count": 38,
     "metadata": {},
     "output_type": "execute_result"
    },
    {
     "data": {
      "image/png": "[encoded data removed]",
      "text/plain": [
       "<Figure size 640x480 with 1 Axes>"
      ]
     },
     "metadata": {},
     "output_type": "display_data"
    }
   ],
   "source": [
    "df2[\"Revenue (Millions)\"].plot.box()"
   ]
  },
  {
   "cell_type": "code",
   "execution_count": null,
   "id": "a62df446",
   "metadata": {},
   "outputs": [
    {
     "data": {
      "text/html": [
       "<div>\n",
       "<style scoped>\n",
       "    .dataframe tbody tr th:only-of-type {\n",
       "        vertical-align: middle;\n",
       "    }\n",
       "\n",
       "    .dataframe tbody tr th {\n",
       "        vertical-align: top;\n",
       "    }\n",
       "\n",
       "    .dataframe thead th {\n",
       "        text-align: right;\n",
       "    }\n",
       "</style>\n",
       "<table border=\"1\" class=\"dataframe\">\n",
       "  <thead>\n",
       "    <tr style=\"text-align: right;\">\n",
       "      <th></th>\n",
       "      <th>Rank</th>\n",
       "      <th>Title</th>\n",
       "      <th>Genre</th>\n",
       "      <th>Description</th>\n",
       "      <th>Director</th>\n",
       "      <th>Actors</th>\n",
       "      <th>Year</th>\n",
       "      <th>Runtime (Minutes)</th>\n",
       "      <th>Rating</th>\n",
       "      <th>Votes</th>\n",
       "      <th>Revenue (Millions)</th>\n",
       "      <th>Metascore</th>\n",
       "    </tr>\n",
       "  </thead>\n",
       "  <tbody>\n",
       "    <tr>\n",
       "      <th>237</th>\n",
       "      <td>238</td>\n",
       "      <td>The Disappointments Room</td>\n",
       "      <td>Drama,Horror,Thriller</td>\n",
       "      <td>A mother and her young son release unimaginabl...</td>\n",
       "      <td>D.J. Caruso</td>\n",
       "      <td>Kate Beckinsale, Mel Raido, Duncan Joiner, Luc...</td>\n",
       "      <td>2016</td>\n",
       "      <td>85</td>\n",
       "      <td>3.9</td>\n",
       "      <td>4895</td>\n",
       "      <td>2.41</td>\n",
       "      <td>31.0</td>\n",
       "    </tr>\n",
       "    <tr>\n",
       "      <th>401</th>\n",
       "      <td>402</td>\n",
       "      <td>The Black Room</td>\n",
       "      <td>Horror</td>\n",
       "      <td>PAUL and JENNIFER HEMDALE have just moved into...</td>\n",
       "      <td>Rolfe Kanefsky</td>\n",
       "      <td>Natasha Henstridge, Lukas Hassel, Lin Shaye,Do...</td>\n",
       "      <td>2016</td>\n",
       "      <td>91</td>\n",
       "      <td>3.9</td>\n",
       "      <td>240</td>\n",
       "      <td>NaN</td>\n",
       "      <td>71.0</td>\n",
       "    </tr>\n",
       "    <tr>\n",
       "      <th>49</th>\n",
       "      <td>50</td>\n",
       "      <td>The Last Face</td>\n",
       "      <td>Drama</td>\n",
       "      <td>A director (Charlize Theron) of an internation...</td>\n",
       "      <td>Sean Penn</td>\n",
       "      <td>Charlize Theron, Javier Bardem, Adèle Exarchop...</td>\n",
       "      <td>2016</td>\n",
       "      <td>130</td>\n",
       "      <td>3.7</td>\n",
       "      <td>987</td>\n",
       "      <td>NaN</td>\n",
       "      <td>16.0</td>\n",
       "    </tr>\n",
       "    <tr>\n",
       "      <th>269</th>\n",
       "      <td>270</td>\n",
       "      <td>Satanic</td>\n",
       "      <td>Horror</td>\n",
       "      <td>Four friends on their way to Coachella stop of...</td>\n",
       "      <td>Jeffrey G. Hunt</td>\n",
       "      <td>Sarah Hyland, Steven Krueger, Justin Chon, Cla...</td>\n",
       "      <td>2016</td>\n",
       "      <td>85</td>\n",
       "      <td>3.7</td>\n",
       "      <td>2384</td>\n",
       "      <td>NaN</td>\n",
       "      <td>NaN</td>\n",
       "    </tr>\n",
       "    <tr>\n",
       "      <th>890</th>\n",
       "      <td>891</td>\n",
       "      <td>The Intent</td>\n",
       "      <td>Crime,Drama</td>\n",
       "      <td>Gunz (Dylan Duffus) is thrust into a world of ...</td>\n",
       "      <td>Femi Oyeniran</td>\n",
       "      <td>Dylan Duffus, Scorcher,Shone Romulus, Jade Asha</td>\n",
       "      <td>2016</td>\n",
       "      <td>104</td>\n",
       "      <td>3.5</td>\n",
       "      <td>202</td>\n",
       "      <td>NaN</td>\n",
       "      <td>59.0</td>\n",
       "    </tr>\n",
       "    <tr>\n",
       "      <th>968</th>\n",
       "      <td>969</td>\n",
       "      <td>Wrecker</td>\n",
       "      <td>Action,Horror,Thriller</td>\n",
       "      <td>Best friends Emily and Lesley go on a road tri...</td>\n",
       "      <td>Micheal Bafaro</td>\n",
       "      <td>Anna Hutchison, Andrea Whitburn, Jennifer Koen...</td>\n",
       "      <td>2015</td>\n",
       "      <td>83</td>\n",
       "      <td>3.5</td>\n",
       "      <td>1210</td>\n",
       "      <td>NaN</td>\n",
       "      <td>37.0</td>\n",
       "    </tr>\n",
       "    <tr>\n",
       "      <th>647</th>\n",
       "      <td>648</td>\n",
       "      <td>Tall Men</td>\n",
       "      <td>Fantasy,Horror,Thriller</td>\n",
       "      <td>A challenged man is stalked by tall phantoms i...</td>\n",
       "      <td>Jonathan Holbrook</td>\n",
       "      <td>Dan Crisafulli, Kay Whitney, Richard Garcia, P...</td>\n",
       "      <td>2016</td>\n",
       "      <td>133</td>\n",
       "      <td>3.2</td>\n",
       "      <td>173</td>\n",
       "      <td>NaN</td>\n",
       "      <td>57.0</td>\n",
       "    </tr>\n",
       "    <tr>\n",
       "      <th>42</th>\n",
       "      <td>43</td>\n",
       "      <td>Don't Fuck in the Woods</td>\n",
       "      <td>Horror</td>\n",
       "      <td>A group of friends are going on a camping trip...</td>\n",
       "      <td>Shawn Burkett</td>\n",
       "      <td>Brittany Blanton, Ayse Howard, Roman Jossart,N...</td>\n",
       "      <td>2016</td>\n",
       "      <td>73</td>\n",
       "      <td>2.7</td>\n",
       "      <td>496</td>\n",
       "      <td>NaN</td>\n",
       "      <td>NaN</td>\n",
       "    </tr>\n",
       "    <tr>\n",
       "      <th>871</th>\n",
       "      <td>872</td>\n",
       "      <td>Dragonball Evolution</td>\n",
       "      <td>Action,Adventure,Fantasy</td>\n",
       "      <td>The young warrior Son Goku sets out on a quest...</td>\n",
       "      <td>James Wong</td>\n",
       "      <td>Justin Chatwin, James Marsters, Yun-Fat Chow, ...</td>\n",
       "      <td>2009</td>\n",
       "      <td>85</td>\n",
       "      <td>2.7</td>\n",
       "      <td>59512</td>\n",
       "      <td>9.35</td>\n",
       "      <td>45.0</td>\n",
       "    </tr>\n",
       "    <tr>\n",
       "      <th>829</th>\n",
       "      <td>830</td>\n",
       "      <td>Disaster Movie</td>\n",
       "      <td>Comedy</td>\n",
       "      <td>Over the course of one evening, an unsuspectin...</td>\n",
       "      <td>Jason Friedberg</td>\n",
       "      <td>Carmen Electra, Vanessa Lachey,Nicole Parker, ...</td>\n",
       "      <td>2008</td>\n",
       "      <td>87</td>\n",
       "      <td>1.9</td>\n",
       "      <td>77207</td>\n",
       "      <td>14.17</td>\n",
       "      <td>15.0</td>\n",
       "    </tr>\n",
       "  </tbody>\n",
       "</table>\n",
       "</div>"
      ],
      "text/plain": [
       "     Rank                     Title                     Genre  \\\n",
       "237   238  The Disappointments Room     Drama,Horror,Thriller   \n",
       "401   402            The Black Room                    Horror   \n",
       "49     50             The Last Face                     Drama   \n",
       "269   270                   Satanic                    Horror   \n",
       "890   891                The Intent               Crime,Drama   \n",
       "968   969                   Wrecker    Action,Horror,Thriller   \n",
       "647   648                  Tall Men   Fantasy,Horror,Thriller   \n",
       "42     43   Don't Fuck in the Woods                    Horror   \n",
       "871   872      Dragonball Evolution  Action,Adventure,Fantasy   \n",
       "829   830            Disaster Movie                    Comedy   \n",
       "\n",
       "                                           Description           Director  \\\n",
       "237  A mother and her young son release unimaginabl...        D.J. Caruso   \n",
       "401  PAUL and JENNIFER HEMDALE have just moved into...     Rolfe Kanefsky   \n",
       "49   A director (Charlize Theron) of an internation...          Sean Penn   \n",
       "269  Four friends on their way to Coachella stop of...    Jeffrey G. Hunt   \n",
       "890  Gunz (Dylan Duffus) is thrust into a world of ...      Femi Oyeniran   \n",
       "968  Best friends Emily and Lesley go on a road tri...     Micheal Bafaro   \n",
       "647  A challenged man is stalked by tall phantoms i...  Jonathan Holbrook   \n",
       "42   A group of friends are going on a camping trip...      Shawn Burkett   \n",
       "871  The young warrior Son Goku sets out on a quest...         James Wong   \n",
       "829  Over the course of one evening, an unsuspectin...    Jason Friedberg   \n",
       "\n",
       "                                                Actors  Year  \\\n",
       "237  Kate Beckinsale, Mel Raido, Duncan Joiner, Luc...  2016   \n",
       "401  Natasha Henstridge, Lukas Hassel, Lin Shaye,Do...  2016   \n",
       "49   Charlize Theron, Javier Bardem, Adèle Exarchop...  2016   \n",
       "269  Sarah Hyland, Steven Krueger, Justin Chon, Cla...  2016   \n",
       "890    Dylan Duffus, Scorcher,Shone Romulus, Jade Asha  2016   \n",
       "968  Anna Hutchison, Andrea Whitburn, Jennifer Koen...  2015   \n",
       "647  Dan Crisafulli, Kay Whitney, Richard Garcia, P...  2016   \n",
       "42   Brittany Blanton, Ayse Howard, Roman Jossart,N...  2016   \n",
       "871  Justin Chatwin, James Marsters, Yun-Fat Chow, ...  2009   \n",
       "829  Carmen Electra, Vanessa Lachey,Nicole Parker, ...  2008   \n",
       "\n",
       "     Runtime (Minutes)  Rating  Votes  Revenue (Millions)  Metascore  \n",
       "237                 85     3.9   4895                2.41       31.0  \n",
       "401                 91     3.9    240                 NaN       71.0  \n",
       "49                 130     3.7    987                 NaN       16.0  \n",
       "269                 85     3.7   2384                 NaN        NaN  \n",
       "890                104     3.5    202                 NaN       59.0  \n",
       "968                 83     3.5   1210                 NaN       37.0  \n",
       "647                133     3.2    173                 NaN       57.0  \n",
       "42                  73     2.7    496                 NaN        NaN  \n",
       "871                 85     2.7  59512                9.35       45.0  \n",
       "829                 87     1.9  77207               14.17       15.0  "
      ]
     },
     "execution_count": 56,
     "metadata": {},
     "output_type": "execute_result"
    }
   ],
   "source": [
    "df2.sort_values(\"Rating\", ascending=False).tail(10)"
   ]
  },
  {
   "cell_type": "code",
   "execution_count": null,
   "id": "fdf60e46",
   "metadata": {},
   "outputs": [],
   "source": []
  }
 ],
 "metadata": {
  "kernelspec": {
   "display_name": "base",
   "language": "python",
   "name": "python3"
  },
  "language_info": {
   "codemirror_mode": {
    "name": "ipython",
    "version": 3
   },
   "file_extension": ".py",
   "mimetype": "text/x-python",
   "name": "python",
   "nbconvert_exporter": "python",
   "pygments_lexer": "ipython3",
   "version": "3.11.4"
  }
 },
 "nbformat": 4,
 "nbformat_minor": 5
}
